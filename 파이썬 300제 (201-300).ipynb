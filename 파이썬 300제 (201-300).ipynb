{
 "cells": [
  {
   "cell_type": "code",
   "execution_count": 6,
   "metadata": {},
   "outputs": [
    {
     "name": "stdout",
     "output_type": "stream",
     "text": [
      "beatzflow\n"
     ]
    }
   ],
   "source": [
    "# 201~ 202번\n",
    "def print_coin():\n",
    "    print('beatzflow')\n",
    "\n",
    "print_coin()"
   ]
  },
  {
   "cell_type": "code",
   "execution_count": 7,
   "metadata": {},
   "outputs": [
    {
     "name": "stdout",
     "output_type": "stream",
     "text": [
      "beatzflow\n",
      "beatzflow\n",
      "beatzflow\n",
      "beatzflow\n",
      "beatzflow\n",
      "beatzflow\n",
      "beatzflow\n",
      "beatzflow\n",
      "beatzflow\n",
      "beatzflow\n",
      "beatzflow\n",
      "beatzflow\n",
      "beatzflow\n",
      "beatzflow\n",
      "beatzflow\n",
      "beatzflow\n",
      "beatzflow\n",
      "beatzflow\n",
      "beatzflow\n",
      "beatzflow\n",
      "beatzflow\n",
      "beatzflow\n",
      "beatzflow\n",
      "beatzflow\n",
      "beatzflow\n",
      "beatzflow\n",
      "beatzflow\n",
      "beatzflow\n",
      "beatzflow\n",
      "beatzflow\n",
      "beatzflow\n",
      "beatzflow\n",
      "beatzflow\n",
      "beatzflow\n",
      "beatzflow\n",
      "beatzflow\n",
      "beatzflow\n",
      "beatzflow\n",
      "beatzflow\n",
      "beatzflow\n",
      "beatzflow\n",
      "beatzflow\n",
      "beatzflow\n",
      "beatzflow\n",
      "beatzflow\n",
      "beatzflow\n",
      "beatzflow\n",
      "beatzflow\n",
      "beatzflow\n",
      "beatzflow\n",
      "beatzflow\n",
      "beatzflow\n",
      "beatzflow\n",
      "beatzflow\n",
      "beatzflow\n",
      "beatzflow\n",
      "beatzflow\n",
      "beatzflow\n",
      "beatzflow\n",
      "beatzflow\n",
      "beatzflow\n",
      "beatzflow\n",
      "beatzflow\n",
      "beatzflow\n",
      "beatzflow\n",
      "beatzflow\n",
      "beatzflow\n",
      "beatzflow\n",
      "beatzflow\n",
      "beatzflow\n",
      "beatzflow\n",
      "beatzflow\n",
      "beatzflow\n",
      "beatzflow\n",
      "beatzflow\n",
      "beatzflow\n",
      "beatzflow\n",
      "beatzflow\n",
      "beatzflow\n",
      "beatzflow\n",
      "beatzflow\n",
      "beatzflow\n",
      "beatzflow\n",
      "beatzflow\n",
      "beatzflow\n",
      "beatzflow\n",
      "beatzflow\n",
      "beatzflow\n",
      "beatzflow\n",
      "beatzflow\n",
      "beatzflow\n",
      "beatzflow\n",
      "beatzflow\n",
      "beatzflow\n",
      "beatzflow\n",
      "beatzflow\n",
      "beatzflow\n",
      "beatzflow\n",
      "beatzflow\n",
      "beatzflow\n"
     ]
    }
   ],
   "source": [
    "# 203번\n",
    "for i in range(100):\n",
    "    print_coin()"
   ]
  },
  {
   "cell_type": "code",
   "execution_count": 10,
   "metadata": {},
   "outputs": [],
   "source": [
    "# 204번\n",
    "def print_coins():\n",
    "    for i in range(100):\n",
    "        print('beatzflow')"
   ]
  },
  {
   "cell_type": "code",
   "execution_count": null,
   "metadata": {},
   "outputs": [],
   "source": [
    "# 205번\n",
    "hello()\n",
    "def hello():\n",
    "    print(\"Hi\")\n",
    "    \n",
    "    ==> 함수 정의되기전에 호출함."
   ]
  },
  {
   "cell_type": "code",
   "execution_count": 11,
   "metadata": {},
   "outputs": [
    {
     "name": "stdout",
     "output_type": "stream",
     "text": [
      "A\n",
      "B\n",
      "C\n",
      "A\n",
      "B\n"
     ]
    }
   ],
   "source": [
    "# 206번\n",
    "def message() :\n",
    "    print(\"A\")\n",
    "    print(\"B\")\n",
    "\n",
    "message()\n",
    "print(\"C\")\n",
    "message()"
   ]
  },
  {
   "cell_type": "code",
   "execution_count": 12,
   "metadata": {},
   "outputs": [
    {
     "name": "stdout",
     "output_type": "stream",
     "text": [
      "A\n",
      "C\n",
      "B\n"
     ]
    }
   ],
   "source": [
    "# 207번\n",
    "print(\"A\")\n",
    "\n",
    "def message() :\n",
    "    print(\"B\")\n",
    "\n",
    "print(\"C\")\n",
    "message()"
   ]
  },
  {
   "cell_type": "code",
   "execution_count": 13,
   "metadata": {},
   "outputs": [
    {
     "name": "stdout",
     "output_type": "stream",
     "text": [
      "A\n",
      "C\n",
      "B\n",
      "E\n",
      "D\n"
     ]
    }
   ],
   "source": [
    "# 208번\n",
    "print(\"A\")\n",
    "def message1() :\n",
    "    print(\"B\")\n",
    "print(\"C\")\n",
    "def message2() :\n",
    "    print(\"D\")\n",
    "message1()\n",
    "print(\"E\")\n",
    "message2()"
   ]
  },
  {
   "cell_type": "code",
   "execution_count": 14,
   "metadata": {},
   "outputs": [
    {
     "name": "stdout",
     "output_type": "stream",
     "text": [
      "B\n",
      "A\n"
     ]
    }
   ],
   "source": [
    "# 209번\n",
    "def message1():\n",
    "    print(\"A\")\n",
    "\n",
    "def message2():\n",
    "    print(\"B\")\n",
    "    message1()\n",
    "\n",
    "message2()"
   ]
  },
  {
   "cell_type": "code",
   "execution_count": 16,
   "metadata": {},
   "outputs": [
    {
     "name": "stdout",
     "output_type": "stream",
     "text": [
      "B\n",
      "C\n",
      "B\n",
      "C\n",
      "B\n",
      "C\n",
      "A\n"
     ]
    }
   ],
   "source": [
    "# 210번\n",
    "def message1():\n",
    "    print(\"A\")\n",
    "\n",
    "def message2():\n",
    "    print(\"B\")\n",
    "\n",
    "def message3():\n",
    "    for i in range(3):\n",
    "        message2()\n",
    "        print(\"C\")\n",
    "    message1()\n",
    "\n",
    "message3()"
   ]
  },
  {
   "cell_type": "code",
   "execution_count": 17,
   "metadata": {},
   "outputs": [
    {
     "name": "stdout",
     "output_type": "stream",
     "text": [
      "안녕\n",
      "Hi\n"
     ]
    }
   ],
   "source": [
    "# 211번\n",
    "def 함수(문자열) :\n",
    "    print(문자열)\n",
    "\n",
    "함수(\"안녕\")\n",
    "함수(\"Hi\")"
   ]
  },
  {
   "cell_type": "code",
   "execution_count": 18,
   "metadata": {},
   "outputs": [
    {
     "name": "stdout",
     "output_type": "stream",
     "text": [
      "7\n",
      "15\n"
     ]
    }
   ],
   "source": [
    "# 212번\n",
    "def 함수(a, b) :\n",
    "    print(a + b)\n",
    "\n",
    "함수(3, 4)\n",
    "함수(7, 8)"
   ]
  },
  {
   "cell_type": "code",
   "execution_count": 20,
   "metadata": {},
   "outputs": [
    {
     "ename": "TypeError",
     "evalue": "함수() missing 1 required positional argument: '문자열'",
     "output_type": "error",
     "traceback": [
      "\u001b[1;31m---------------------------------------------------------------------------\u001b[0m",
      "\u001b[1;31mTypeError\u001b[0m                                 Traceback (most recent call last)",
      "\u001b[1;32m<ipython-input-20-d9449c93dfcb>\u001b[0m in \u001b[0;36m<module>\u001b[1;34m\u001b[0m\n\u001b[0;32m      2\u001b[0m \u001b[1;32mdef\u001b[0m \u001b[0m함수\u001b[0m\u001b[1;33m(\u001b[0m\u001b[0m문자열\u001b[0m\u001b[1;33m)\u001b[0m \u001b[1;33m:\u001b[0m\u001b[1;33m\u001b[0m\u001b[1;33m\u001b[0m\u001b[0m\n\u001b[0;32m      3\u001b[0m     \u001b[0mprint\u001b[0m\u001b[1;33m(\u001b[0m\u001b[0m문자열\u001b[0m\u001b[1;33m)\u001b[0m\u001b[1;33m\u001b[0m\u001b[1;33m\u001b[0m\u001b[0m\n\u001b[1;32m----> 4\u001b[1;33m \u001b[0m함수\u001b[0m\u001b[1;33m(\u001b[0m\u001b[1;33m)\u001b[0m\u001b[1;33m\u001b[0m\u001b[1;33m\u001b[0m\u001b[0m\n\u001b[0m",
      "\u001b[1;31mTypeError\u001b[0m: 함수() missing 1 required positional argument: '문자열'"
     ]
    }
   ],
   "source": [
    "# 213번\n",
    "def 함수(문자열) :\n",
    "    print(문자열)\n",
    "함수()\n",
    "\n",
    "==> 함수에 정의와 다르게 함수를 호출하고 있다. \n",
    "함수를 호출할 때 하나의 파라미터를 입력해야한다."
   ]
  },
  {
   "cell_type": "code",
   "execution_count": 21,
   "metadata": {},
   "outputs": [
    {
     "ename": "TypeError",
     "evalue": "can only concatenate str (not \"int\") to str",
     "output_type": "error",
     "traceback": [
      "\u001b[1;31m---------------------------------------------------------------------------\u001b[0m",
      "\u001b[1;31mTypeError\u001b[0m                                 Traceback (most recent call last)",
      "\u001b[1;32m<ipython-input-21-0beca6cfab62>\u001b[0m in \u001b[0;36m<module>\u001b[1;34m\u001b[0m\n\u001b[0;32m      3\u001b[0m     \u001b[0mprint\u001b[0m\u001b[1;33m(\u001b[0m\u001b[0ma\u001b[0m \u001b[1;33m+\u001b[0m \u001b[0mb\u001b[0m\u001b[1;33m)\u001b[0m\u001b[1;33m\u001b[0m\u001b[1;33m\u001b[0m\u001b[0m\n\u001b[0;32m      4\u001b[0m \u001b[1;33m\u001b[0m\u001b[0m\n\u001b[1;32m----> 5\u001b[1;33m \u001b[0m함수\u001b[0m\u001b[1;33m(\u001b[0m\u001b[1;34m\"안녕\"\u001b[0m\u001b[1;33m,\u001b[0m \u001b[1;36m3\u001b[0m\u001b[1;33m)\u001b[0m\u001b[1;33m\u001b[0m\u001b[1;33m\u001b[0m\u001b[0m\n\u001b[0m",
      "\u001b[1;32m<ipython-input-21-0beca6cfab62>\u001b[0m in \u001b[0;36m함수\u001b[1;34m(a, b)\u001b[0m\n\u001b[0;32m      1\u001b[0m \u001b[1;31m# 214번\u001b[0m\u001b[1;33m\u001b[0m\u001b[1;33m\u001b[0m\u001b[1;33m\u001b[0m\u001b[0m\n\u001b[0;32m      2\u001b[0m \u001b[1;32mdef\u001b[0m \u001b[0m함수\u001b[0m\u001b[1;33m(\u001b[0m\u001b[0ma\u001b[0m\u001b[1;33m,\u001b[0m \u001b[0mb\u001b[0m\u001b[1;33m)\u001b[0m \u001b[1;33m:\u001b[0m\u001b[1;33m\u001b[0m\u001b[1;33m\u001b[0m\u001b[0m\n\u001b[1;32m----> 3\u001b[1;33m     \u001b[0mprint\u001b[0m\u001b[1;33m(\u001b[0m\u001b[0ma\u001b[0m \u001b[1;33m+\u001b[0m \u001b[0mb\u001b[0m\u001b[1;33m)\u001b[0m\u001b[1;33m\u001b[0m\u001b[1;33m\u001b[0m\u001b[0m\n\u001b[0m\u001b[0;32m      4\u001b[0m \u001b[1;33m\u001b[0m\u001b[0m\n\u001b[0;32m      5\u001b[0m \u001b[0m함수\u001b[0m\u001b[1;33m(\u001b[0m\u001b[1;34m\"안녕\"\u001b[0m\u001b[1;33m,\u001b[0m \u001b[1;36m3\u001b[0m\u001b[1;33m)\u001b[0m\u001b[1;33m\u001b[0m\u001b[1;33m\u001b[0m\u001b[0m\n",
      "\u001b[1;31mTypeError\u001b[0m: can only concatenate str (not \"int\") to str"
     ]
    }
   ],
   "source": [
    "# 214번\n",
    "def 함수(a, b) :\n",
    "    print(a + b)\n",
    "\n",
    "함수(\"안녕\", 3)\n",
    "\n",
    "==> 문자열이라서 더할 수 없음."
   ]
  },
  {
   "cell_type": "code",
   "execution_count": 22,
   "metadata": {},
   "outputs": [],
   "source": [
    "# 215번\n",
    "def print_with_smile(a):\n",
    "    print(a, ':D')"
   ]
  },
  {
   "cell_type": "code",
   "execution_count": 23,
   "metadata": {},
   "outputs": [
    {
     "name": "stdout",
     "output_type": "stream",
     "text": [
      "zeaf :D\n"
     ]
    }
   ],
   "source": [
    "print_with_smile('zeaf')"
   ]
  },
  {
   "cell_type": "code",
   "execution_count": 24,
   "metadata": {},
   "outputs": [
    {
     "name": "stdout",
     "output_type": "stream",
     "text": [
      "안녕하세요 :D\n"
     ]
    }
   ],
   "source": [
    "# 216번\n",
    "print_with_smile('안녕하세요')"
   ]
  },
  {
   "cell_type": "code",
   "execution_count": 26,
   "metadata": {},
   "outputs": [
    {
     "name": "stdin",
     "output_type": "stream",
     "text": [
      "현재가격 213213\n"
     ]
    },
    {
     "name": "stdout",
     "output_type": "stream",
     "text": [
      "277176.9\n"
     ]
    }
   ],
   "source": [
    "# 217번\n",
    "def print_upper_price():\n",
    "    x = int(input('현재가격'))\n",
    "    \n",
    "    print(x*1.3)\n",
    "print_upper_price()\n",
    "\n",
    "def print_upper_price(price):\n",
    "    print(price*1.3)"
   ]
  },
  {
   "cell_type": "code",
   "execution_count": 27,
   "metadata": {},
   "outputs": [
    {
     "name": "stdout",
     "output_type": "stream",
     "text": [
      "8\n"
     ]
    }
   ],
   "source": [
    "# 218번\n",
    "def print_sum(a,b):\n",
    "    print(a+b)\n",
    "\n",
    "print_sum(3,5)"
   ]
  },
  {
   "cell_type": "code",
   "execution_count": 30,
   "metadata": {},
   "outputs": [
    {
     "name": "stdout",
     "output_type": "stream",
     "text": [
      "3 + 4 =  7\n",
      "3 - 4 =  -1\n",
      "3 * 4 =  12\n",
      "3 / 4 =  0.75\n"
     ]
    }
   ],
   "source": [
    "# 219번\n",
    "def print_arithmetic_operation(a, b):\n",
    "    print(f'{a} + {b} = ',a + b)\n",
    "    print(f'{a} - {b} = ',a - b)\n",
    "    print(f'{a} * {b} = ',a * b)\n",
    "    print(f'{a} / {b} = ',a / b)\n",
    "\n",
    "print_arithmetic_operation(3,4)"
   ]
  },
  {
   "cell_type": "code",
   "execution_count": 31,
   "metadata": {},
   "outputs": [
    {
     "name": "stdout",
     "output_type": "stream",
     "text": [
      "51235\n"
     ]
    }
   ],
   "source": [
    "# 220번\n",
    "def print_max(a,b,c):\n",
    "    max_val = 0\n",
    "    if a > max_val :\n",
    "        max_val = a\n",
    "    if b > max_val :\n",
    "        max_val = b\n",
    "    if c > max_val :\n",
    "        max_val = c\n",
    "    print(max_val)\n",
    "    \n",
    "print_max(314,12,51235)\n",
    "\n",
    "@@@@@@@@@@@@@@@@@@@@@@@@@@ if 이용해서 max값 찾기 @@@@@@@@@@@@@@@@@@@@@@@@@"
   ]
  },
  {
   "cell_type": "code",
   "execution_count": 32,
   "metadata": {},
   "outputs": [],
   "source": [
    "# 221번\n",
    "def print_reverse(string):\n",
    "    print (string[::-1])"
   ]
  },
  {
   "cell_type": "code",
   "execution_count": 34,
   "metadata": {},
   "outputs": [
    {
     "name": "stdout",
     "output_type": "stream",
     "text": [
      "fdsa\n"
     ]
    }
   ],
   "source": [
    "print_reverse('asdf')"
   ]
  },
  {
   "cell_type": "code",
   "execution_count": 36,
   "metadata": {},
   "outputs": [
    {
     "name": "stdout",
     "output_type": "stream",
     "text": [
      "2.0\n"
     ]
    }
   ],
   "source": [
    "# 222번\n",
    "def print_score (score_list):\n",
    "    print(sum(score_list)/len(score_list))\n",
    "\n",
    "print_score([1,2,3])\n",
    "    \n",
    "    @@@@@@@@@@@@@@@@ 리스트 이용한 파라미터 @@@@@@@@@@@@@"
   ]
  },
  {
   "cell_type": "code",
   "execution_count": 39,
   "metadata": {},
   "outputs": [
    {
     "name": "stdout",
     "output_type": "stream",
     "text": [
      "2\n",
      "10\n",
      "12\n"
     ]
    }
   ],
   "source": [
    "# 223번\n",
    "def print_even(num_list):\n",
    "    for i in num_list:\n",
    "        if i % 2 == 0:\n",
    "            print(i)\n",
    "\n",
    "\n",
    "\n",
    "print_even ([1, 3, 2, 10, 12, 11, 15])\n",
    "\n",
    "@@@@@@@@@@@@@@@@@@@@@@@@@@@@@@@@@@@@@"
   ]
  },
  {
   "cell_type": "code",
   "execution_count": 43,
   "metadata": {},
   "outputs": [
    {
     "name": "stdout",
     "output_type": "stream",
     "text": [
      "이름\n",
      "나이\n",
      "성별\n"
     ]
    }
   ],
   "source": [
    "# 224번\n",
    "def print_keys(dic):\n",
    "    for i in dic.keys():\n",
    "        print(i)\n",
    "\n",
    "\n",
    "\n",
    "\n",
    "print_keys ({\"이름\":\"김말똥\", \"나이\":30, \"성별\":0})"
   ]
  },
  {
   "cell_type": "code",
   "execution_count": 46,
   "metadata": {},
   "outputs": [
    {
     "name": "stdout",
     "output_type": "stream",
     "text": [
      "[100, 130, 100, 100]\n"
     ]
    }
   ],
   "source": [
    "# 225번\n",
    "my_dict = {\"10/26\" : [100, 130, 100, 100],\n",
    "           \"10/27\" : [10, 12, 10, 11]}\n",
    "\n",
    "def print_value_by_key(dic, key):\n",
    "    print(dic[key])\n",
    "\n",
    "print_value_by_key  (my_dict, \"10/26\")"
   ]
  },
  {
   "cell_type": "code",
   "execution_count": 52,
   "metadata": {},
   "outputs": [
    {
     "name": "stdout",
     "output_type": "stream",
     "text": [
      "아이엠어보\n",
      "이유알어걸\n",
      "\n"
     ]
    }
   ],
   "source": [
    "# 226번\n",
    "def print_5xn(string):\n",
    "    five_num = int(len(string)/5)\n",
    "    for i in range(five_num + 1):\n",
    "        print(string[i*5:i*5+5])\n",
    "\n",
    "print_5xn(\"아이엠어보이유알어걸\")\n",
    "\n",
    "\n",
    "\n",
    "\n",
    "\n",
    "@@@@@@@@@@@@@@@@@@ 5글자씩 한 줄 @@@@@@@@@@@@@@@@@@"
   ]
  },
  {
   "cell_type": "code",
   "execution_count": 54,
   "metadata": {},
   "outputs": [
    {
     "name": "stdout",
     "output_type": "stream",
     "text": [
      "아이엠\n",
      "어보이\n",
      "유알어\n",
      "걸\n"
     ]
    }
   ],
   "source": [
    "# 227번\n",
    "def printmxn(string, intiger):\n",
    "    split_num = int(len(string)/intiger)\n",
    "    for i in range(split_num + 1):\n",
    "        print(string[i*intiger:i*intiger+intiger])\n",
    "\n",
    "printmxn(\"아이엠어보이유알어걸\", 3)\n",
    "\n",
    "@@@@@@@@@@@@@@@@@@ 위 문제 응용 @@@@@@@@@@@@@"
   ]
  },
  {
   "cell_type": "code",
   "execution_count": 62,
   "metadata": {},
   "outputs": [
    {
     "name": "stdout",
     "output_type": "stream",
     "text": [
      "1000000\n"
     ]
    }
   ],
   "source": [
    "# 228번\n",
    "def calc_monthly_salary(annual_salary):\n",
    "    print(round(int(annual_salary)/12))\n",
    "    \n",
    "calc_monthly_salary(12000000)"
   ]
  },
  {
   "cell_type": "code",
   "execution_count": 63,
   "metadata": {},
   "outputs": [
    {
     "name": "stdout",
     "output_type": "stream",
     "text": [
      "왼쪽: 100\n",
      "오른쪽: 200\n"
     ]
    }
   ],
   "source": [
    "# 229번\n",
    "def my_print (a, b) :\n",
    "    print(\"왼쪽:\", a)\n",
    "    print(\"오른쪽:\", b)\n",
    "\n",
    "my_print(a=100, b=200)\n",
    "\n",
    "@@@@@@@@@@@@@@@@@@ a 에 100을 바인딩하고 b에 200을 바인딩한다."
   ]
  },
  {
   "cell_type": "code",
   "execution_count": 64,
   "metadata": {},
   "outputs": [
    {
     "name": "stdout",
     "output_type": "stream",
     "text": [
      "왼쪽: 200\n",
      "오른쪽: 100\n"
     ]
    }
   ],
   "source": [
    "# 230번\n",
    "def my_print (a, b) :\n",
    "    print(\"왼쪽:\", a)\n",
    "    print(\"오른쪽:\", b)\n",
    "\n",
    "my_print(b=100, a=200)"
   ]
  },
  {
   "cell_type": "code",
   "execution_count": 68,
   "metadata": {},
   "outputs": [
    {
     "ename": "NameError",
     "evalue": "name 'result' is not defined",
     "output_type": "error",
     "traceback": [
      "\u001b[1;31m---------------------------------------------------------------------------\u001b[0m",
      "\u001b[1;31mNameError\u001b[0m                                 Traceback (most recent call last)",
      "\u001b[1;32m<ipython-input-68-a0ce0aa99b4a>\u001b[0m in \u001b[0;36m<module>\u001b[1;34m\u001b[0m\n\u001b[0;32m      4\u001b[0m \u001b[1;33m\u001b[0m\u001b[0m\n\u001b[0;32m      5\u001b[0m \u001b[0mn_plus_1\u001b[0m\u001b[1;33m(\u001b[0m\u001b[1;36m3\u001b[0m\u001b[1;33m)\u001b[0m\u001b[1;33m\u001b[0m\u001b[1;33m\u001b[0m\u001b[0m\n\u001b[1;32m----> 6\u001b[1;33m \u001b[0mprint\u001b[0m \u001b[1;33m(\u001b[0m\u001b[0mresult\u001b[0m\u001b[1;33m)\u001b[0m\u001b[1;33m\u001b[0m\u001b[1;33m\u001b[0m\u001b[0m\n\u001b[0m\u001b[0;32m      7\u001b[0m \u001b[1;33m\u001b[0m\u001b[0m\n\u001b[0;32m      8\u001b[0m \u001b[1;31m# @@@@@@@@@@@@@@@@@@@@@@@@@@\u001b[0m\u001b[1;33m\u001b[0m\u001b[1;33m\u001b[0m\u001b[1;33m\u001b[0m\u001b[0m\n",
      "\u001b[1;31mNameError\u001b[0m: name 'result' is not defined"
     ]
    }
   ],
   "source": [
    "# 231번\n",
    "def n_plus_1 (n) :\n",
    "    result = n + 1\n",
    "\n",
    "n_plus_1(3)\n",
    "print (result)\n",
    "\n",
    "@@@@@@@@@@@@@@@@@@@@@@@@@@\n",
    "함수 내부에서 사용한 변수는 함수 밖에서는 접근이 불가능합니다.\n",
    "(문법이 그래요) 함수 내부에서 계산한 값을 전달하기 위해서는 \n",
    "return을 사용해야 합니다.\n",
    "@@@@@@@@@@@@@@@@@@@@@@@@@@"
   ]
  },
  {
   "cell_type": "code",
   "execution_count": 70,
   "metadata": {},
   "outputs": [
    {
     "name": "stdout",
     "output_type": "stream",
     "text": [
      "www.naver.com\n",
      "www. naver .com\n"
     ]
    }
   ],
   "source": [
    "# 232번\n",
    "def make_url(string):\n",
    "    print('www.'+string+'.com')\n",
    "    \n",
    "    print('www.',string,'.com')\n",
    "\n",
    "\n",
    "make_url(\"naver\")"
   ]
  },
  {
   "cell_type": "code",
   "execution_count": 75,
   "metadata": {},
   "outputs": [
    {
     "data": {
      "text/plain": [
       "['a', 'b', 'c', 'd']"
      ]
     },
     "execution_count": 75,
     "metadata": {},
     "output_type": "execute_result"
    }
   ],
   "source": [
    "# 233번\n",
    "def make_list(string):\n",
    "    list_str = []\n",
    "    for i in string:\n",
    "        list_str.append(i)\n",
    "    return(list_str)\n",
    "\n",
    "make_list(\"abcd\")\n",
    "\n",
    "@@@@@@@@@@@@@@@@@ return  이용하기"
   ]
  },
  {
   "cell_type": "code",
   "execution_count": 76,
   "metadata": {},
   "outputs": [
    {
     "data": {
      "text/plain": [
       "[4, 6, 8]"
      ]
     },
     "execution_count": 76,
     "metadata": {},
     "output_type": "execute_result"
    }
   ],
   "source": [
    "# 234번\n",
    "def pickup_even(num_list):\n",
    "    even_list = []\n",
    "    for i in num_list:\n",
    "        if i % 2 == 0:\n",
    "            even_list.append(i)\n",
    "    return(even_list)\n",
    "\n",
    "pickup_even([3, 4, 5, 6, 7, 8])"
   ]
  },
  {
   "cell_type": "code",
   "execution_count": 80,
   "metadata": {},
   "outputs": [
    {
     "data": {
      "text/plain": [
       "1234567"
      ]
     },
     "execution_count": 80,
     "metadata": {},
     "output_type": "execute_result"
    }
   ],
   "source": [
    "# 235번\n",
    "def convert_int(string):\n",
    "    return int(string.replace(',',''))\n",
    "\n",
    "\n",
    "convert_int(\"1,234,567\")"
   ]
  },
  {
   "cell_type": "code",
   "execution_count": 81,
   "metadata": {},
   "outputs": [
    {
     "name": "stdout",
     "output_type": "stream",
     "text": [
      "22\n"
     ]
    }
   ],
   "source": [
    "# 236번\n",
    "def 함수(num) :\n",
    "    return num + 4\n",
    "\n",
    "a = 함수(10) # 14\n",
    "b = 함수(a) # 18\n",
    "c = 함수(b) # 22\n",
    "print(c)"
   ]
  },
  {
   "cell_type": "code",
   "execution_count": 82,
   "metadata": {},
   "outputs": [
    {
     "name": "stdout",
     "output_type": "stream",
     "text": [
      "22\n"
     ]
    }
   ],
   "source": [
    "# 237번\n",
    "def 함수(num) :\n",
    "    return num + 4\n",
    "\n",
    "c = 함수(함수(함수(10))) # 14 18 22\n",
    "print(c)"
   ]
  },
  {
   "cell_type": "code",
   "execution_count": 83,
   "metadata": {},
   "outputs": [
    {
     "name": "stdout",
     "output_type": "stream",
     "text": [
      "140\n"
     ]
    }
   ],
   "source": [
    "# 238번\n",
    "def 함수1(num) :\n",
    "    return num + 4\n",
    "\n",
    "def 함수2(num) :\n",
    "    return num * 10\n",
    "\n",
    "a = 함수1(10) # 14\n",
    "c = 함수2(a)  # 140\n",
    "print(c)"
   ]
  },
  {
   "cell_type": "code",
   "execution_count": 84,
   "metadata": {},
   "outputs": [
    {
     "name": "stdout",
     "output_type": "stream",
     "text": [
      "16\n"
     ]
    }
   ],
   "source": [
    "# 239번\n",
    "def 함수1(num) :\n",
    "    return num + 4\n",
    "\n",
    "def 함수2(num) :\n",
    "    num = num + 2 \n",
    "    return 함수1(num) # \n",
    "\n",
    "c = 함수2(10) # 12 16\n",
    "print(c)"
   ]
  },
  {
   "cell_type": "code",
   "execution_count": 85,
   "metadata": {},
   "outputs": [
    {
     "name": "stdout",
     "output_type": "stream",
     "text": [
      "28\n"
     ]
    }
   ],
   "source": [
    "# 240번\n",
    "def 함수0(num) :\n",
    "    return num * 2\n",
    "\n",
    "def 함수1(num) :\n",
    "    return 함수0(num + 2)\n",
    "\n",
    "def 함수2(num) :\n",
    "    num = num + 10\n",
    "    return 함수1(num)\n",
    "\n",
    "c = 함수2(2) # 12 14 28\n",
    "print(c)"
   ]
  },
  {
   "cell_type": "code",
   "execution_count": 109,
   "metadata": {},
   "outputs": [
    {
     "data": {
      "text/plain": [
       "datetime.datetime(2020, 5, 25, 15, 3, 29, 943538)"
      ]
     },
     "execution_count": 109,
     "metadata": {},
     "output_type": "execute_result"
    }
   ],
   "source": [
    "# 241~242번\n",
    "import datetime\n",
    "\n",
    "x = datetime.datetime.now()\n",
    "x"
   ]
  },
  {
   "cell_type": "code",
   "execution_count": 112,
   "metadata": {},
   "outputs": [
    {
     "data": {
      "text/plain": [
       "datetime.datetime(2020, 5, 20, 15, 3, 34, 602078)"
      ]
     },
     "execution_count": 112,
     "metadata": {},
     "output_type": "execute_result"
    }
   ],
   "source": [
    "# 243번\n",
    "from datetime import datetime, timedelta\n",
    "\n",
    "now_time = datetime.now()\n",
    "\n",
    "str(now_time)\n",
    "\n",
    "the_date_before = now_time - timedelta(days= 5)\n",
    "the_date_before\n",
    "\n",
    "@@@@@@ timedelta ==> + - 로 이전날짜 찾기\n"
   ]
  },
  {
   "cell_type": "code",
   "execution_count": 153,
   "metadata": {},
   "outputs": [
    {
     "data": {
      "text/plain": [
       "'15시 27분 01초'"
      ]
     },
     "execution_count": 153,
     "metadata": {},
     "output_type": "execute_result"
    }
   ],
   "source": [
    "# 244번\n",
    "now = datetime.datetime.now()\n",
    "now_hour = now.strftime(\"%H\")\n",
    "now_min = now.strftime(\"%M\")\n",
    "now_sec = now.strftime(\"%S\")\n",
    "\n",
    "now_time = (f'{now_hour}시 {now_min}분 {now_sec}초')\n",
    "now_time"
   ]
  },
  {
   "cell_type": "code",
   "execution_count": 141,
   "metadata": {},
   "outputs": [
    {
     "data": {
      "text/plain": [
       "'2020-05-04 00:00:00'"
      ]
     },
     "execution_count": 141,
     "metadata": {},
     "output_type": "execute_result"
    }
   ],
   "source": [
    "# 245번\n",
    "import datetime\n",
    "timestamp = \"2020-05-04\"\n",
    "d = datetime.datetime.strptime(timestamp, '%Y-%m-%d')\n",
    "str(d)\n",
    "\n",
    "@@@@@@@@@@@@@@@@"
   ]
  },
  {
   "cell_type": "code",
   "execution_count": 157,
   "metadata": {},
   "outputs": [
    {
     "name": "stdout",
     "output_type": "stream",
     "text": [
      "2020-05-25 15:27:24.913975\n",
      "2020-05-25 15:27:25.914789\n",
      "2020-05-25 15:27:26.916619\n",
      "2020-05-25 15:27:27.917894\n",
      "2020-05-25 15:27:28.918252\n"
     ]
    }
   ],
   "source": [
    "# 246번\n",
    "import time\n",
    "\n",
    "for i in range(5):\n",
    "    print(str(datetime.datetime.now()))\n",
    "    time.sleep(1)\n",
    "\n",
    "\n",
    "\n",
    "\n",
    "# @@@@@@@@@@@@@@@ time sleep method @@@@@@@@@@@@@@@"
   ]
  },
  {
   "cell_type": "code",
   "execution_count": 156,
   "metadata": {},
   "outputs": [
    {
     "data": {
      "text/plain": [
       "datetime.datetime(2020, 5, 25, 15, 27, 1, 29823)"
      ]
     },
     "execution_count": 156,
     "metadata": {},
     "output_type": "execute_result"
    }
   ],
   "source": [
    "# 247번\n",
    "모듈을 임포트하는 법..\n",
    "import ~"
   ]
  },
  {
   "cell_type": "code",
   "execution_count": 161,
   "metadata": {},
   "outputs": [
    {
     "data": {
      "text/plain": [
       "'C:\\\\Users\\\\lmj35'"
      ]
     },
     "execution_count": 161,
     "metadata": {},
     "output_type": "execute_result"
    }
   ],
   "source": [
    "# 248번\n",
    "import os\n",
    "os.getcwd()\n",
    "\n",
    "@@@@@@@@@@@@@@@@@@ 디렉토리 경로 출력 @@@@@@@@@@@@@@"
   ]
  },
  {
   "cell_type": "code",
   "execution_count": 165,
   "metadata": {},
   "outputs": [],
   "source": [
    "# 249번\n",
    "import os\n",
    "\n",
    "path = 'C:\\\\Users\\\\lmj35\\\\Desktop\\\\'\n",
    "f_name = 'ddd.txt'\n",
    "os.rename(path+f_name, path+'juniroc.txt')\n",
    "\n",
    "@@@@@@@@@@@@@@@@@@@@@@ "
   ]
  },
  {
   "cell_type": "code",
   "execution_count": 168,
   "metadata": {},
   "outputs": [
    {
     "data": {
      "text/plain": [
       "array([0. , 0.1, 0.2, 0.3, 0.4, 0.5, 0.6, 0.7, 0.8, 0.9, 1. , 1.1, 1.2,\n",
       "       1.3, 1.4, 1.5, 1.6, 1.7, 1.8, 1.9, 2. , 2.1, 2.2, 2.3, 2.4, 2.5,\n",
       "       2.6, 2.7, 2.8, 2.9, 3. , 3.1, 3.2, 3.3, 3.4, 3.5, 3.6, 3.7, 3.8,\n",
       "       3.9, 4. , 4.1, 4.2, 4.3, 4.4, 4.5, 4.6, 4.7, 4.8, 4.9])"
      ]
     },
     "execution_count": 168,
     "metadata": {},
     "output_type": "execute_result"
    }
   ],
   "source": [
    "# 250번 \n",
    "import numpy as np\n",
    "\n",
    "np.arange(0.0, 5.0, 0.1)"
   ]
  },
  {
   "cell_type": "code",
   "execution_count": null,
   "metadata": {},
   "outputs": [],
   "source": [
    "# 251번\n",
    "클래스, 객체, 인스턴스\n",
    "\n",
    "클래스 ( 붕어빵 틀 )\n",
    "- 클래스를 사용하는 목적이 변수와 함수를 묶어서 \n",
    "  하나의 새로운 객체(타입)로 만드는 것\n",
    "- 객체를 만들어 내기 위한 설계도 혹은 틀\n",
    "- 연관되어 있는 변수와 메서드의 집합\n",
    "\n",
    "객체\n",
    "- 구현할 대상\n",
    "- 클래스에 선언된 모양 그대로 생성된 실체\n",
    "- '클래스'의 '인스턴스'\n",
    "\n",
    "인스턴스 ( 만들어진 붕어빵 )\n",
    "- 설계도를 바탕으로 구현된 구체적 실체(제품)\n",
    "\n",
    "\n",
    "class ~~():\n",
    "    def 인스턴스(self, 인자, 인자2, 인자3,...)\n",
    "\n",
    "\n",
    "@@@@@@@@@@@@@@ 여기서 부터 class @@@@@@@@@@@@@@@"
   ]
  },
  {
   "cell_type": "code",
   "execution_count": 40,
   "metadata": {},
   "outputs": [],
   "source": [
    "# 252번\n",
    "class Human():\n",
    "    pass"
   ]
  },
  {
   "cell_type": "code",
   "execution_count": 43,
   "metadata": {},
   "outputs": [],
   "source": [
    "# 253번\n",
    "class Human():\n",
    "    def 생성(self):\n",
    "        print('생성완료')"
   ]
  },
  {
   "cell_type": "code",
   "execution_count": 44,
   "metadata": {},
   "outputs": [
    {
     "name": "stdout",
     "output_type": "stream",
     "text": [
      "생성완료\n"
     ]
    }
   ],
   "source": [
    "areum = Human()\n",
    "areum.생성()"
   ]
  },
  {
   "cell_type": "code",
   "execution_count": 46,
   "metadata": {},
   "outputs": [],
   "source": [
    "# 254번\n",
    "class Human():\n",
    "    def crying(self):\n",
    "        print('응애응애')"
   ]
  },
  {
   "cell_type": "code",
   "execution_count": 47,
   "metadata": {},
   "outputs": [
    {
     "name": "stdout",
     "output_type": "stream",
     "text": [
      "응애응애\n"
     ]
    }
   ],
   "source": [
    "areum = Human()\n",
    "areum.crying()"
   ]
  },
  {
   "cell_type": "code",
   "execution_count": 58,
   "metadata": {},
   "outputs": [],
   "source": [
    "# 255 - 257번\n",
    "class Human():\n",
    "    def __init__(self, name, age, gender):\n",
    "        self.name = name\n",
    "        self.age = age\n",
    "        self.gender = gender\n",
    "        \n",
    "    def showing(self):\n",
    "        print('-----------------')\n",
    "        print('name is :',self.name)\n",
    "        print('age is :',self.age)\n",
    "        print('gender is :',self.gender)\n",
    "        print('-----------------')\n",
    "        \n",
    "@@@@@@@@@@@@@@@@@@@ 위 아래 모두 self.~~ 를 이용해야함 @@@@@@@@@@@@@@@@@@@@"
   ]
  },
  {
   "cell_type": "code",
   "execution_count": 59,
   "metadata": {},
   "outputs": [
    {
     "name": "stdout",
     "output_type": "stream",
     "text": [
      "-----------------\n",
      "name is : 아름\n",
      "age is : 25\n",
      "gender is : 여자\n",
      "-----------------\n"
     ]
    }
   ],
   "source": [
    "areum = Human('아름',25,'여자')\n",
    "areum.showing()"
   ]
  },
  {
   "cell_type": "code",
   "execution_count": 61,
   "metadata": {},
   "outputs": [
    {
     "data": {
      "text/plain": [
       "25"
      ]
     },
     "execution_count": 61,
     "metadata": {},
     "output_type": "execute_result"
    }
   ],
   "source": [
    "# 256 - 257번\n",
    "areum.age"
   ]
  },
  {
   "cell_type": "code",
   "execution_count": 62,
   "metadata": {},
   "outputs": [],
   "source": [
    "# 258번\n",
    "class Human():\n",
    "    def setInfo(self, name, age, gender):\n",
    "        self.name = name\n",
    "        self.age = age\n",
    "        self.gender = gender\n",
    "        \n",
    "    def showing(self):\n",
    "        print('-----------------')\n",
    "        print('name is :',self.name)\n",
    "        print('age is :',self.age)\n",
    "        print('gender is :',self.gender)\n",
    "        print('-----------------')"
   ]
  },
  {
   "cell_type": "code",
   "execution_count": 64,
   "metadata": {},
   "outputs": [
    {
     "name": "stdout",
     "output_type": "stream",
     "text": [
      "-----------------\n",
      "name is : 민쥐\n",
      "age is : 24\n",
      "gender is : 여자\n",
      "-----------------\n"
     ]
    }
   ],
   "source": [
    "minji = Human()\n",
    "minji.setInfo('민쥐',24,'여자')\n",
    "minji.showing()"
   ]
  },
  {
   "cell_type": "code",
   "execution_count": 65,
   "metadata": {},
   "outputs": [],
   "source": [
    "# 259번\n",
    "class Human():\n",
    "    def setInfo(self, name, age, gender):\n",
    "        self.name = name\n",
    "        self.age = age\n",
    "        self.gender = gender\n",
    "        \n",
    "    def __del__(self):\n",
    "        print('hing gu...')"
   ]
  },
  {
   "cell_type": "code",
   "execution_count": 66,
   "metadata": {},
   "outputs": [],
   "source": [
    "areum = Human()\n",
    "del areum\n",
    "@@@@@@@@@@@@@@@@ class 소멸자.. @@@@@@@@@@@@@@@@@@@@@@"
   ]
  },
  {
   "cell_type": "code",
   "execution_count": 69,
   "metadata": {},
   "outputs": [
    {
     "ename": "TypeError",
     "evalue": "print() takes 0 positional arguments but 1 was given",
     "output_type": "error",
     "traceback": [
      "\u001b[1;31m---------------------------------------------------------------------------\u001b[0m",
      "\u001b[1;31mTypeError\u001b[0m                                 Traceback (most recent call last)",
      "\u001b[1;32m<ipython-input-69-18d3173f3b9b>\u001b[0m in \u001b[0;36m<module>\u001b[1;34m\u001b[0m\n\u001b[0;32m      5\u001b[0m \u001b[1;33m\u001b[0m\u001b[0m\n\u001b[0;32m      6\u001b[0m \u001b[0mmyStock\u001b[0m \u001b[1;33m=\u001b[0m \u001b[0mOMG\u001b[0m\u001b[1;33m(\u001b[0m\u001b[1;33m)\u001b[0m\u001b[1;33m\u001b[0m\u001b[1;33m\u001b[0m\u001b[0m\n\u001b[1;32m----> 7\u001b[1;33m \u001b[0mmyStock\u001b[0m\u001b[1;33m.\u001b[0m\u001b[0mprint\u001b[0m\u001b[1;33m(\u001b[0m\u001b[1;33m)\u001b[0m\u001b[1;33m\u001b[0m\u001b[1;33m\u001b[0m\u001b[0m\n\u001b[0m",
      "\u001b[1;31mTypeError\u001b[0m: print() takes 0 positional arguments but 1 was given"
     ]
    }
   ],
   "source": [
    "# 260번\n",
    "class OMG : \n",
    "    def print() :\n",
    "        print(\"Oh my god\")\n",
    "\n",
    "myStock = OMG()\n",
    "myStock.print()\n",
    "\n",
    "@@@@@@ 이미 명령어가 있는거라서 그럼. @@@@@@"
   ]
  },
  {
   "cell_type": "code",
   "execution_count": 73,
   "metadata": {},
   "outputs": [],
   "source": [
    "# 261번\n",
    "class Stock():\n",
    "    market = '샘숭'"
   ]
  },
  {
   "cell_type": "code",
   "execution_count": 74,
   "metadata": {},
   "outputs": [
    {
     "data": {
      "text/plain": [
       "'샘숭'"
      ]
     },
     "execution_count": 74,
     "metadata": {},
     "output_type": "execute_result"
    }
   ],
   "source": [
    "Stock.market"
   ]
  },
  {
   "cell_type": "code",
   "execution_count": 75,
   "metadata": {},
   "outputs": [],
   "source": [
    "# 262번\n",
    "class Stock():\n",
    "    def __init__(self, name, number):\n",
    "        self.name = name\n",
    "        self.num = number\n",
    "    def show(self):\n",
    "        print(self.name, self.num)"
   ]
  },
  {
   "cell_type": "code",
   "execution_count": 78,
   "metadata": {},
   "outputs": [
    {
     "name": "stdout",
     "output_type": "stream",
     "text": [
      "삼성전자 005930\n"
     ]
    }
   ],
   "source": [
    "삼성 = Stock('삼성전자','005930')\n",
    "삼성.show()"
   ]
  },
  {
   "cell_type": "code",
   "execution_count": 79,
   "metadata": {},
   "outputs": [],
   "source": [
    "# 263번\n",
    "class Stock():\n",
    "    def __init__(self, name, number):\n",
    "        self.name = name\n",
    "        self.num = number\n",
    "    def set_name(self, name1):\n",
    "        self.name = name1"
   ]
  },
  {
   "cell_type": "code",
   "execution_count": 90,
   "metadata": {},
   "outputs": [],
   "source": [
    "a = Stock(None,None)\n",
    "a.set_name('삼전')"
   ]
  },
  {
   "cell_type": "code",
   "execution_count": 87,
   "metadata": {},
   "outputs": [],
   "source": [
    "# 264번\n",
    "class Stock():\n",
    "    def __init__(self, name, number):\n",
    "        self.name = name\n",
    "        self.num = number\n",
    "    \n",
    "    def set_name(self, name1):\n",
    "        self.name = name1\n",
    "        \n",
    "    def set_code(self, number1):\n",
    "        self.num = number1\n",
    "    \n",
    "    def show(self):\n",
    "        print(self.name, self.num)    "
   ]
  },
  {
   "cell_type": "code",
   "execution_count": 88,
   "metadata": {},
   "outputs": [],
   "source": [
    "a = Stock(None,None)\n",
    "a.set_code('005931')"
   ]
  },
  {
   "cell_type": "code",
   "execution_count": 91,
   "metadata": {},
   "outputs": [
    {
     "name": "stdout",
     "output_type": "stream",
     "text": [
      "삼전 None\n"
     ]
    }
   ],
   "source": [
    "a.show()"
   ]
  },
  {
   "cell_type": "code",
   "execution_count": 3,
   "metadata": {},
   "outputs": [],
   "source": [
    "# 265번\n",
    "class Stock():\n",
    "    def __init__(self, name, number):\n",
    "        self.name = name\n",
    "        self.num = number\n",
    "    \n",
    "    def set_name(self, name1):\n",
    "        self.name = name1\n",
    "        \n",
    "    def set_code(self, number1):\n",
    "        self.num = number1\n",
    "    \n",
    "    def show(self):\n",
    "        return self.name, self.num"
   ]
  },
  {
   "cell_type": "code",
   "execution_count": 4,
   "metadata": {},
   "outputs": [
    {
     "data": {
      "text/plain": [
       "('삼성전자', '005930')"
      ]
     },
     "execution_count": 4,
     "metadata": {},
     "output_type": "execute_result"
    }
   ],
   "source": [
    "삼성 = Stock('삼성전자','005930')\n",
    "삼성.show()"
   ]
  },
  {
   "cell_type": "code",
   "execution_count": 10,
   "metadata": {},
   "outputs": [],
   "source": [
    "# 266번\n",
    "class Stock():\n",
    "    def add_info(self, 종목명, 종목코드, PER, PBR, 배당수익률):\n",
    "        self.종목명 = 종목명\n",
    "        self.종목코드 = 종목코드\n",
    "        self.PER = PER\n",
    "        self.PBR = PBR\n",
    "        self.배당수익률 = 배당수익률\n",
    "        \n",
    "    def set_per(self, per):\n",
    "        self.PER = per\n",
    "        \n",
    "    def set_pbr(self, pbr):\n",
    "        self.PBR = pbr\n",
    "        \n",
    "    def set_dividend(self, dividend):\n",
    "        self.배당수익률 = dividend\n",
    "    \n",
    "    def show(self):\n",
    "        print('-----------------------')\n",
    "        print(self.종목명)\n",
    "        print(self.종목코드)\n",
    "        print(self.PER)\n",
    "        print(self.PBR)\n",
    "        print(self.배당수익률)\n",
    "        print('-----------------------')\n",
    "        "
   ]
  },
  {
   "cell_type": "code",
   "execution_count": 16,
   "metadata": {},
   "outputs": [],
   "source": [
    "# 267번\n",
    "samsung = Stock()\n",
    "samsung.add_info('삼성전자','005930',15.79,1.33,2.83)"
   ]
  },
  {
   "cell_type": "code",
   "execution_count": 17,
   "metadata": {},
   "outputs": [
    {
     "name": "stdout",
     "output_type": "stream",
     "text": [
      "-----------------------\n",
      "삼성전자\n",
      "005930\n",
      "15.79\n",
      "1.33\n",
      "2.83\n",
      "-----------------------\n"
     ]
    }
   ],
   "source": [
    "samsung.show()"
   ]
  },
  {
   "cell_type": "code",
   "execution_count": 14,
   "metadata": {},
   "outputs": [],
   "source": [
    "# 268번\n",
    "class Stock():\n",
    "    def add_info(self, 종목명, 종목코드, PER, PBR, 배당수익률):\n",
    "        self.종목명 = 종목명\n",
    "        self.종목코드 = 종목코드\n",
    "        self.PER = PER\n",
    "        self.PBR = PBR\n",
    "        self.배당수익률 = 배당수익률\n",
    "        \n",
    "    def set_per(self, per):\n",
    "        self.PER = per\n",
    "        \n",
    "    def set_pbr(self, pbr):\n",
    "        self.PBR = pbr\n",
    "        \n",
    "    def set_dividend(self, dividend):\n",
    "        self.배당수익률 = dividend\n",
    "    \n",
    "    def show(self):\n",
    "        print('-----------------------')\n",
    "        print(self.종목명)\n",
    "        print(self.종목코드)\n",
    "        print(self.PER)\n",
    "        print(self.PBR)\n",
    "        print(self.배당수익률)\n",
    "        print('-----------------------')"
   ]
  },
  {
   "cell_type": "code",
   "execution_count": 18,
   "metadata": {},
   "outputs": [
    {
     "name": "stdout",
     "output_type": "stream",
     "text": [
      "-----------------------\n",
      "삼성전자\n",
      "005930\n",
      "12.75\n",
      "1.33\n",
      "2.83\n",
      "-----------------------\n"
     ]
    }
   ],
   "source": [
    "# 269번\n",
    "samsung.set_per(12.75)\n",
    "samsung.show()"
   ]
  },
  {
   "cell_type": "code",
   "execution_count": 37,
   "metadata": {},
   "outputs": [
    {
     "name": "stdout",
     "output_type": "stream",
     "text": [
      "005930 12.75\n",
      "005380 8.7\n",
      "066570 317.34\n"
     ]
    }
   ],
   "source": [
    "# 270번\n",
    "hyundai = Stock()\n",
    "lg = Stock()\n",
    "hyundai.add_info('현대차','005380',8.70,0.35,4.27)\n",
    "lg.add_info('LG전자','066570',317.34,0.69,1.37)\n",
    "\n",
    "# hyundai.show()\n",
    "# lg.show()\n",
    "\n",
    "lst = []\n",
    "\n",
    "lst = [samsung,hyundai,lg]\n",
    "\n",
    "\n",
    "\n",
    "for i in lst:\n",
    "    print(i.종목코드,i.PER)\n",
    "\n",
    "    \n",
    "    \n",
    "@@@@@@@@@@@@@@ class 객체 리스트에 넣고 내용물 반환 @@@@@@@@@@@@@@@"
   ]
  },
  {
   "cell_type": "code",
   "execution_count": 58,
   "metadata": {},
   "outputs": [],
   "source": [
    "# 271번\n",
    "from random import *\n",
    "class Account():\n",
    "    def create_ac(self, name, 초기잔액):\n",
    "        self.name = name\n",
    "        self.초기잔액 = 초기잔액\n",
    "        \n",
    "        i = randint(100,999)\n",
    "        j = randint(10,99)\n",
    "        k = randint(100000,999990)\n",
    "        self.ac_num = f'{i}-{j}-{k}'\n",
    "        \n",
    "    def show(self):\n",
    "        print('------------')\n",
    "        print(self.name)\n",
    "        print(self.ac_num)\n",
    "        "
   ]
  },
  {
   "cell_type": "code",
   "execution_count": 80,
   "metadata": {},
   "outputs": [
    {
     "name": "stdout",
     "output_type": "stream",
     "text": [
      "------------\n",
      "SC은행\n",
      "592-83-696019\n",
      "100000000000\n",
      "------------\n"
     ]
    }
   ],
   "source": [
    "a = Account()\n",
    "a.create_ac('SC은행',100000000000)\n",
    "a.show()\n",
    "\n",
    "@@@@@@@@@@@@@@@@ "
   ]
  },
  {
   "cell_type": "code",
   "execution_count": 55,
   "metadata": {},
   "outputs": [],
   "source": [
    "@@@@@@@@@@@@@@ 랜덤 계좌번호 생성 @@@@@@@@@@@@@@@@@\n",
    "from random import *\n",
    "i = randint(100,999)\n",
    "j = randint(10,99)\n",
    "k = randint(100000,999990)\n",
    "print(f'{i}-{j}-{k}')\n",
    "@@@@@@@@@@@@@@@@@@@@@@@@@@@@@@@@@@@@@@@@@@@@@@@@@@@"
   ]
  },
  {
   "cell_type": "code",
   "execution_count": 62,
   "metadata": {},
   "outputs": [],
   "source": [
    "# 272-273번\n",
    "from random import *\n",
    "class Account():\n",
    "    \n",
    "    num_Account = 0\n",
    "    \n",
    "    def create_ac(self, name, 초기잔액):\n",
    "        \n",
    "        Account.num_Account += 1\n",
    "        \n",
    "        self.name = name\n",
    "        self.초기잔액 = 초기잔액\n",
    "        \n",
    "        i = randint(100,999)\n",
    "        j = randint(10,99)\n",
    "        k = randint(100000,999990)\n",
    "        self.ac_num = f'{i}-{j}-{k}'\n",
    "        \n",
    "        \n",
    "        \n",
    "    def show(self):\n",
    "        print('------------')\n",
    "        print(self.name)\n",
    "        print(self.ac_num)\n",
    "    \n",
    "    def get_account_num(self):\n",
    "        print(Account.num_Account)\n"
   ]
  },
  {
   "cell_type": "code",
   "execution_count": 68,
   "metadata": {},
   "outputs": [
    {
     "name": "stdout",
     "output_type": "stream",
     "text": [
      "1\n"
     ]
    }
   ],
   "source": [
    "a.get_account_num()"
   ]
  },
  {
   "cell_type": "code",
   "execution_count": 77,
   "metadata": {},
   "outputs": [],
   "source": [
    "# 274번\n",
    "from random import *\n",
    "class Account():\n",
    "    \n",
    "    num_Account = 0\n",
    "    \n",
    "    def create_ac(self, name, 초기잔액):\n",
    "        \n",
    "        Account.num_Account += 1\n",
    "        \n",
    "        self.name = name\n",
    "        self.초기잔액 = 초기잔액\n",
    "        \n",
    "        i = randint(100,999)\n",
    "        j = randint(10,99)\n",
    "        k = randint(100000,999990)\n",
    "        self.ac_num = f'{i}-{j}-{k}'\n",
    "        \n",
    "    def deposit(self, 입금액):\n",
    "        self.초기잔액 += 입금액\n",
    "        \n",
    "    def show(self):\n",
    "        print('------------')\n",
    "        print(self.name)\n",
    "        print(self.ac_num)\n",
    "        print(self.초기잔액)\n",
    "        print('------------')\n",
    "    \n",
    "    def get_account_num(self):\n",
    "        print(Account.num_Account)\n",
    "\n",
    "@@@@@@@@ 입금액 @@@@@@@@@@"
   ]
  },
  {
   "cell_type": "code",
   "execution_count": 81,
   "metadata": {},
   "outputs": [
    {
     "name": "stdout",
     "output_type": "stream",
     "text": [
      "------------\n",
      "SC은행\n",
      "592-83-696019\n",
      "100000000000\n",
      "------------\n",
      "------------\n",
      "SC은행\n",
      "592-83-696019\n",
      "100203420142\n",
      "------------\n"
     ]
    }
   ],
   "source": [
    "a.show()\n",
    "\n",
    "a.deposit(203420142)\n",
    "a.show()"
   ]
  },
  {
   "cell_type": "code",
   "execution_count": 84,
   "metadata": {},
   "outputs": [],
   "source": [
    "# 275번\n",
    "from random import *\n",
    "class Account():\n",
    "    \n",
    "    num_Account = 0\n",
    "    \n",
    "    def create_ac(self, name, 초기잔액):\n",
    "        \n",
    "        Account.num_Account += 1\n",
    "        \n",
    "        self.name = name\n",
    "        self.초기잔액 = 초기잔액\n",
    "        \n",
    "        i = randint(100,999)\n",
    "        j = randint(10,99)\n",
    "        k = randint(100000,999990)\n",
    "        self.ac_num = f'{i}-{j}-{k}'\n",
    "        \n",
    "    def deposit(self, 입금액):\n",
    "        self.초기잔액 += 입금액\n",
    "\n",
    "    def widthdraw(self, 출금액):\n",
    "        if self.초기잔액 >= 출금액:\n",
    "            \n",
    "            self.초기잔액 -= 출금액\n",
    "            \n",
    "        else:\n",
    "            print('잔액이 부족합니다')\n",
    "        \n",
    "    def show(self):\n",
    "        print('------------')\n",
    "        print(self.name)\n",
    "        print(self.ac_num)\n",
    "        print(self.초기잔액)\n",
    "        print('------------')\n",
    "    \n",
    "    def get_account_num(self):\n",
    "        print(Account.num_Account)"
   ]
  },
  {
   "cell_type": "code",
   "execution_count": 88,
   "metadata": {},
   "outputs": [
    {
     "name": "stdout",
     "output_type": "stream",
     "text": [
      "------------\n",
      "SC은행\n",
      "836-66-229143\n",
      "100000000000\n",
      "------------\n",
      "잔액이 부족합니다\n",
      "------------\n",
      "SC은행\n",
      "836-66-229143\n",
      "100000000000\n",
      "------------\n"
     ]
    }
   ],
   "source": [
    "a = Account()\n",
    "a.create_ac('SC은행',100000000000)\n",
    "\n",
    "a.show()\n",
    "a.widthdraw(100000000001)\n",
    "a.show()\n",
    "\n",
    "@@@@@@@@@@@@ 출금 메서드 @@@@@@@@@@@@"
   ]
  },
  {
   "cell_type": "code",
   "execution_count": 99,
   "metadata": {},
   "outputs": [],
   "source": [
    "# 276번\n",
    "from random import *\n",
    "class Account():\n",
    "    \n",
    "    num_Account = 0\n",
    "    \n",
    "    def create_ac(self, name, 예금주, 초기잔액):\n",
    "        \n",
    "        Account.num_Account += 1\n",
    "        \n",
    "        self.name = name\n",
    "        self.예금주 = 예금주\n",
    "        self.초기잔액 = 초기잔액\n",
    "        \n",
    "        i = randint(100,999)\n",
    "        j = randint(10,99)\n",
    "        k = randint(100000,999990)\n",
    "        self.ac_num = f'{i}-{j}-{k}'\n",
    "        \n",
    "    def deposit(self, 입금액):\n",
    "        self.초기잔액 += 입금액\n",
    "\n",
    "    def widthdraw(self, 출금액):\n",
    "        if self.초기잔액 >= 출금액:\n",
    "            \n",
    "            self.초기잔액 -= 출금액\n",
    "            \n",
    "        else:\n",
    "            print('잔액이 부족합니다')\n",
    "        \n",
    "    def show(self):\n",
    "        print('------------')\n",
    "        print('은행이름 :'+self.name)\n",
    "        print('예금주 :'+self.예금주)\n",
    "        print('계좌번호 :'+self.ac_num)\n",
    "        print(self.초기잔액,'원')\n",
    "        print('------------')\n",
    "    \n",
    "    def get_account_num(self):\n",
    "        print(Account.num_Account)"
   ]
  },
  {
   "cell_type": "code",
   "execution_count": 100,
   "metadata": {},
   "outputs": [
    {
     "name": "stdout",
     "output_type": "stream",
     "text": [
      "------------\n",
      "은행이름 :SC은행\n",
      "예금주 :파이썬\n",
      "계좌번호 :541-83-902927\n",
      "10000 원\n",
      "------------\n"
     ]
    }
   ],
   "source": [
    "sc = Account()\n",
    "sc.create_ac('SC은행','파이썬',10000)\n",
    "sc.show()"
   ]
  },
  {
   "cell_type": "code",
   "execution_count": 120,
   "metadata": {},
   "outputs": [],
   "source": [
    "# 277번\n",
    "from random import *\n",
    "class Account():\n",
    "    \n",
    "    num_Account = 0\n",
    "    \n",
    "    num_deposit = 0\n",
    "    def create_ac(self, name, 예금주, 초기잔액):\n",
    "        \n",
    "        Account.num_Account += 1\n",
    "        \n",
    "        self.name = name\n",
    "        self.예금주 = 예금주\n",
    "        self.초기잔액 = 초기잔액\n",
    "        \n",
    "        i = randint(100,999)\n",
    "        j = randint(10,99)\n",
    "        k = randint(100000,999990)\n",
    "        self.ac_num = f'{i}-{j}-{k}'\n",
    "        \n",
    "    def deposit(self, 입금액):\n",
    "        Account.num_deposit += 1\n",
    "        self.초기잔액 += 입금액\n",
    "        \n",
    "        if Account.num_deposit == 5:\n",
    "            self.초기잔액 += self.초기잔액*0.01\n",
    "\n",
    "    def widthdraw(self, 출금액):\n",
    "        if self.초기잔액 >= 출금액:\n",
    "            \n",
    "            self.초기잔액 -= 출금액\n",
    "            \n",
    "        else:\n",
    "            print('잔액이 부족합니다')\n",
    "        \n",
    "    def show(self):\n",
    "        print('------------')\n",
    "        print('은행이름 :'+self.name)\n",
    "        print('예금주 :'+self.예금주)\n",
    "        print('계좌번호 :'+self.ac_num)\n",
    "        print(self.초기잔액,'원')\n",
    "        print('------------')\n",
    "    \n",
    "    def get_account_num(self):\n",
    "        print(Account.num_Account)"
   ]
  },
  {
   "cell_type": "code",
   "execution_count": 156,
   "metadata": {},
   "outputs": [
    {
     "name": "stdout",
     "output_type": "stream",
     "text": [
      "------------\n",
      "은행이름 :SC은행\n",
      "예금주 :파이썬\n",
      "계좌번호 :747-12-754918\n",
      "10000 원\n",
      "------------\n",
      "------------\n",
      "은행이름 :SC은행\n",
      "예금주 :파이썬\n",
      "계좌번호 :747-12-754918\n",
      "20000 원\n",
      "------------\n",
      "------------\n",
      "은행이름 :SC은행\n",
      "예금주 :파이썬\n",
      "계좌번호 :747-12-754918\n",
      "30000 원\n",
      "------------\n",
      "------------\n",
      "은행이름 :SC은행\n",
      "예금주 :파이썬\n",
      "계좌번호 :747-12-754918\n",
      "40000 원\n",
      "------------\n",
      "------------\n",
      "은행이름 :SC은행\n",
      "예금주 :파이썬\n",
      "계좌번호 :747-12-754918\n",
      "50000 원\n",
      "------------\n",
      "------------\n",
      "은행이름 :SC은행\n",
      "예금주 :파이썬\n",
      "계좌번호 :747-12-754918\n",
      "60600.0 원\n",
      "------------\n"
     ]
    }
   ],
   "source": [
    "sc = Account()\n",
    "sc.create_ac('SC은행','파이썬',10000)\n",
    "sc.show()\n",
    "sc.deposit(10000)\n",
    "sc.show()\n",
    "sc.deposit(10000)\n",
    "sc.show()\n",
    "sc.deposit(10000)\n",
    "sc.show()\n",
    "sc.deposit(10000)\n",
    "sc.show()\n",
    "sc.deposit(10000)\n",
    "sc.show()\n"
   ]
  },
  {
   "cell_type": "code",
   "execution_count": 134,
   "metadata": {},
   "outputs": [
    {
     "name": "stdout",
     "output_type": "stream",
     "text": [
      "------------\n",
      "은행이름 :국민KB\n",
      "예금주 :Juniroc\n",
      "계좌번호 :662-54-118621\n",
      "1783492940000 원\n",
      "------------\n",
      "------------\n",
      "은행이름 :카카오뱅크\n",
      "예금주 :Minji\n",
      "계좌번호 :802-10-188988\n",
      "329042023923 원\n",
      "------------\n",
      "1783492940000\n",
      "329042023923\n",
      "60600.0\n"
     ]
    }
   ],
   "source": [
    "# 278번\n",
    "kb = Account()\n",
    "kb.create_ac('국민KB','Juniroc',1783492940000)\n",
    "\n",
    "kakao = Account()\n",
    "kakao.create_ac('카카오뱅크','Minji',329042023923)\n",
    "\n",
    "kb.show()\n",
    "kakao.show()\n",
    "\n",
    "lst = []\n",
    "\n",
    "lst = [kb,kakao,sc]\n",
    "\n",
    "for i in lst:\n",
    "    print(i.초기잔액)"
   ]
  },
  {
   "cell_type": "code",
   "execution_count": 128,
   "metadata": {},
   "outputs": [
    {
     "name": "stdout",
     "output_type": "stream",
     "text": [
      "------------\n",
      "은행이름 :국민KB\n",
      "예금주 :Juniroc\n",
      "계좌번호 :196-56-353199\n",
      "1783492940000 원\n",
      "------------\n",
      "------------\n",
      "은행이름 :카카오뱅크\n",
      "예금주 :Minji\n",
      "계좌번호 :352-79-571638\n",
      "329042023923 원\n",
      "------------\n"
     ]
    }
   ],
   "source": [
    "# 279번\n",
    "for i in lst:\n",
    "    if i.초기잔액 >= 1000000:\n",
    "        i.show()"
   ]
  },
  {
   "cell_type": "code",
   "execution_count": 155,
   "metadata": {},
   "outputs": [],
   "source": [
    "# 280번\n",
    "from random import *\n",
    "class Account():\n",
    "    \n",
    "    num_Account = 0\n",
    "    \n",
    "    num_deposit = 0\n",
    "    \n",
    "    deposit_list = []\n",
    "    withdraw_list = []\n",
    "    def create_ac(self, name, 예금주, 초기잔액):\n",
    "        \n",
    "        Account.num_Account += 1\n",
    "        \n",
    "        self.name = name\n",
    "        self.예금주 = 예금주\n",
    "        self.초기잔액 = 초기잔액\n",
    "        \n",
    "        i = randint(100,999)\n",
    "        j = randint(10,99)\n",
    "        k = randint(100000,999990)\n",
    "        self.ac_num = f'{i}-{j}-{k}'\n",
    "        \n",
    "    def deposit(self, 입금액):\n",
    "        Account.num_deposit += 1\n",
    "        self.초기잔액 += 입금액\n",
    "        \n",
    "        if Account.num_deposit == 5:\n",
    "            self.초기잔액 += self.초기잔액*0.01\n",
    "        \n",
    "        Account.deposit_list.append(입금액)\n",
    "        \n",
    "\n",
    "    def withdraw(self, 출금액):\n",
    "        deposit_history\n",
    "        if self.초기잔액 >= 출금액:\n",
    "            \n",
    "            self.초기잔액 -= 출금액\n",
    "            \n",
    "        else:\n",
    "            print('잔액이 부족합니다')\n",
    "        \n",
    "        Account.withdraw_list.append(출금액)\n",
    "            \n",
    "    def deposit_history(self):\n",
    "        for i in Account.deposit_list:\n",
    "            print(i)\n",
    "        \n",
    "        \n",
    "    def withdraw_history(self):\n",
    "        for j in Account.withdraw_list:\n",
    "            print(j)\n",
    "        \n",
    "    def show(self):\n",
    "        print('------------')\n",
    "        print('은행이름 :'+self.name)\n",
    "        print('예금주 :'+self.예금주)\n",
    "        print('계좌번호 :'+self.ac_num)\n",
    "        print(self.초기잔액,'원')\n",
    "        print('------------')\n",
    "    \n",
    "    def get_account_num(self):\n",
    "        print(Account.num_Account)"
   ]
  },
  {
   "cell_type": "code",
   "execution_count": 157,
   "metadata": {},
   "outputs": [
    {
     "name": "stdout",
     "output_type": "stream",
     "text": [
      "10000\n",
      "10000\n",
      "10000\n",
      "10000\n",
      "10000\n"
     ]
    }
   ],
   "source": [
    "sc.deposit_history()"
   ]
  },
  {
   "cell_type": "code",
   "execution_count": 184,
   "metadata": {},
   "outputs": [],
   "source": [
    "# 281번 \n",
    "class 차():\n",
    "    def __init__(self, 바퀴, 가격):\n",
    "        self.바퀴 = 바퀴\n",
    "        self.가격 = 가격"
   ]
  },
  {
   "cell_type": "code",
   "execution_count": 185,
   "metadata": {},
   "outputs": [
    {
     "data": {
      "text/plain": [
       "2"
      ]
     },
     "execution_count": 185,
     "metadata": {},
     "output_type": "execute_result"
    }
   ],
   "source": [
    "car = 차(2,1000)\n",
    "car.바퀴"
   ]
  },
  {
   "cell_type": "code",
   "execution_count": 186,
   "metadata": {},
   "outputs": [
    {
     "data": {
      "text/plain": [
       "1000"
      ]
     },
     "execution_count": 186,
     "metadata": {},
     "output_type": "execute_result"
    }
   ],
   "source": [
    "car.가격"
   ]
  },
  {
   "cell_type": "code",
   "execution_count": 189,
   "metadata": {},
   "outputs": [],
   "source": [
    "# 282번\n",
    "class 자전차(차):\n",
    "    pass\n",
    "\n",
    "@@@@@ 상속 @@@@@"
   ]
  },
  {
   "cell_type": "code",
   "execution_count": 190,
   "metadata": {},
   "outputs": [
    {
     "data": {
      "text/plain": [
       "100"
      ]
     },
     "execution_count": 190,
     "metadata": {},
     "output_type": "execute_result"
    }
   ],
   "source": [
    "# 283번\n",
    "bicycle = 자전차(2,100)\n",
    "bicycle.가격"
   ]
  },
  {
   "cell_type": "code",
   "execution_count": 191,
   "metadata": {},
   "outputs": [],
   "source": [
    "# 284번\n",
    "class 자전차(차):\n",
    "    def __init__(self, 바퀴, 가격, 구동계):\n",
    "        self.바퀴 = 바퀴\n",
    "        self.가격 = 가격\n",
    "        self.구동계 = 구동계"
   ]
  },
  {
   "cell_type": "code",
   "execution_count": 192,
   "metadata": {},
   "outputs": [],
   "source": [
    "bicycle = 자전차(2, 100, '시마노')"
   ]
  },
  {
   "cell_type": "code",
   "execution_count": 193,
   "metadata": {},
   "outputs": [
    {
     "data": {
      "text/plain": [
       "'시마노'"
      ]
     },
     "execution_count": 193,
     "metadata": {},
     "output_type": "execute_result"
    }
   ],
   "source": [
    "bicycle.구동계"
   ]
  },
  {
   "cell_type": "code",
   "execution_count": 194,
   "metadata": {},
   "outputs": [],
   "source": [
    "# 285번\n",
    "class 자동차():\n",
    "    def __init__(self, 바퀴수, 가격):\n",
    "        self.바퀴수 = 바퀴수\n",
    "        self.가격 = 가격\n",
    "        \n",
    "    def 정보(self):\n",
    "        print('------------')\n",
    "        print(f'바퀴수 {self.바퀴수}')\n",
    "        print(f'가격 {self.가격}')\n",
    "        print('------------')"
   ]
  },
  {
   "cell_type": "code",
   "execution_count": 196,
   "metadata": {},
   "outputs": [
    {
     "name": "stdout",
     "output_type": "stream",
     "text": [
      "------------\n",
      "바퀴수 4\n",
      "가격 1000\n",
      "------------\n"
     ]
    }
   ],
   "source": [
    "car = 자동차(4,1000)\n",
    "car.정보()"
   ]
  },
  {
   "cell_type": "code",
   "execution_count": 208,
   "metadata": {},
   "outputs": [],
   "source": [
    "# 286 - 287번\n",
    "class 자전차(자동차):\n",
    "    def __init__(self,바퀴수,가격,구동계):\n",
    "        self.바퀴수 = 바퀴수\n",
    "        self.가격 = 가격\n",
    "        self.구동계 = 구동계\n",
    "    \n",
    "    def info(self):\n",
    "        print('------------')\n",
    "        print(f'바퀴수 {self.바퀴수}')\n",
    "        print(f'가격 {self.가격}')\n",
    "        print(f'구동계 {self.구동계}')\n",
    "        print('------------')"
   ]
  },
  {
   "cell_type": "code",
   "execution_count": 209,
   "metadata": {},
   "outputs": [
    {
     "name": "stdout",
     "output_type": "stream",
     "text": [
      "------------\n",
      "바퀴수 2\n",
      "가격 100\n",
      "구동계 시마노\n",
      "------------\n"
     ]
    }
   ],
   "source": [
    "bicycle = 자전차(2,100,'시마노')\n",
    "bicycle.info()"
   ]
  },
  {
   "cell_type": "code",
   "execution_count": 210,
   "metadata": {},
   "outputs": [],
   "source": [
    "# 288번\n",
    "class 부모:\n",
    "    def 호출(self):\n",
    "        print(\"부모호출\")\n",
    "\n",
    "class 자식:\n",
    "    def 호출(self):\n",
    "        print(\"자식호출\")\n",
    "        "
   ]
  },
  {
   "cell_type": "code",
   "execution_count": 211,
   "metadata": {},
   "outputs": [
    {
     "data": {
      "text/plain": [
       "<__main__.자식 at 0x24eab45ee88>"
      ]
     },
     "execution_count": 211,
     "metadata": {},
     "output_type": "execute_result"
    }
   ],
   "source": [
    "자식()"
   ]
  },
  {
   "cell_type": "code",
   "execution_count": 212,
   "metadata": {},
   "outputs": [],
   "source": [
    "# 289번\n",
    "class 부모:\n",
    "    def __init__(self):\n",
    "        print(\"부모생성\")\n",
    "\n",
    "class 자식:\n",
    "    def __init__(self):\n",
    "        print(\"자식생성\")\n",
    "        "
   ]
  },
  {
   "cell_type": "code",
   "execution_count": 213,
   "metadata": {},
   "outputs": [
    {
     "name": "stdout",
     "output_type": "stream",
     "text": [
      "자식생성\n"
     ]
    },
    {
     "data": {
      "text/plain": [
       "<__main__.자식 at 0x24eab48a048>"
      ]
     },
     "execution_count": 213,
     "metadata": {},
     "output_type": "execute_result"
    }
   ],
   "source": [
    "자식()\n",
    "\n",
    "@@@@@@@@@@@@@@@@@@@@@ 288번이랑 비교해볼 것. @@@@@@@@@@@@@@@@@@@"
   ]
  },
  {
   "cell_type": "code",
   "execution_count": 222,
   "metadata": {},
   "outputs": [],
   "source": [
    "# 290번\n",
    "class 부모:\n",
    "    def __init__(self):\n",
    "        print(\"부모생성\")\n",
    "\n",
    "class 자식:\n",
    "    def __init__(self):\n",
    "        print(\"자식생성\")\n",
    "        super().__init__()"
   ]
  },
  {
   "cell_type": "code",
   "execution_count": 225,
   "metadata": {},
   "outputs": [
    {
     "name": "stdout",
     "output_type": "stream",
     "text": [
      "자식생성\n"
     ]
    },
    {
     "data": {
      "text/plain": [
       "<__main__.자식 at 0x24eab471308>"
      ]
     },
     "execution_count": 225,
     "metadata": {},
     "output_type": "execute_result"
    }
   ],
   "source": [
    "자식()"
   ]
  },
  {
   "cell_type": "code",
   "execution_count": 230,
   "metadata": {},
   "outputs": [],
   "source": [
    "# 291 - 292번\n",
    "f = open('c:\\\\Users\\\\lmj35\\\\Desktop\\\\juniroc.txt', 'wt')\n",
    "f.write('005930 삼성전자\\n')\n",
    "f.write('005380 현대차\\n')\n",
    "f.write('035420 Naver\\n')\n",
    "f.close()"
   ]
  },
  {
   "cell_type": "code",
   "execution_count": 246,
   "metadata": {},
   "outputs": [],
   "source": [
    "# 293번\n",
    "import csv\n",
    "with open('c:\\\\Users\\\\lmj35\\\\Desktop\\\\매수종목1.csv', 'w', newline='') as file:\n",
    "    writer = csv.writer(file)\n",
    "    writer.writerow(['종목명', '종목코드','PER'])\n",
    "    writer.writerow(['삼성전자','005930', 15.79])\n",
    "    writer.writerow(['Naver','035420',55.82])\n",
    "\n",
    "    \n",
    "    @@@@@@@@@@@@@@@@@@@@ csv 파일 만들고 내용 집어 넣기"
   ]
  },
  {
   "cell_type": "code",
   "execution_count": 5,
   "metadata": {},
   "outputs": [
    {
     "data": {
      "text/plain": [
       "['005930 삼성전자', '005380 현대차', '035420 Naver', '']"
      ]
     },
     "execution_count": 5,
     "metadata": {},
     "output_type": "execute_result"
    }
   ],
   "source": [
    "# 294번\n",
    "f = open('c:\\\\Users\\\\lmj35\\\\Desktop\\\\juniroc.txt', 'r')\n",
    "a = f.read().split('\\n')\n",
    "a"
   ]
  },
  {
   "cell_type": "code",
   "execution_count": 37,
   "metadata": {},
   "outputs": [],
   "source": [
    "# 295번\n",
    "d = {}\n",
    "with open('c:\\\\Users\\\\lmj35\\\\Desktop\\\\juniroc.txt', 'r') as f:\n",
    "    for i in f:\n",
    "        (val, key) = i.split()\n",
    "        d[key] = val"
   ]
  },
  {
   "cell_type": "code",
   "execution_count": 38,
   "metadata": {},
   "outputs": [
    {
     "data": {
      "text/plain": [
       "{'삼성전자': '005930', '현대차': '005380', 'Naver': '035420'}"
      ]
     },
     "execution_count": 38,
     "metadata": {},
     "output_type": "execute_result"
    }
   ],
   "source": [
    "d"
   ]
  },
  {
   "cell_type": "code",
   "execution_count": 65,
   "metadata": {},
   "outputs": [
    {
     "name": "stdout",
     "output_type": "stream",
     "text": [
      "10.31\n",
      "0\n",
      "8.0\n"
     ]
    }
   ],
   "source": [
    "# 296번\n",
    "per = [\"10.31\", \"\", \"8.00\"]\n",
    "\n",
    "for i in per:\n",
    "    try :\n",
    "        print(float(i))\n",
    "    except :\n",
    "        print(0)\n",
    "        \n",
    "        \n",
    "@@@@@@@@@@@@@@@@@@ 예외 처리 @@@@@@@@@@@@@@@"
   ]
  },
  {
   "cell_type": "code",
   "execution_count": 49,
   "metadata": {},
   "outputs": [
    {
     "data": {
      "text/plain": [
       "[10.31, 0, 8.0]"
      ]
     },
     "execution_count": 49,
     "metadata": {},
     "output_type": "execute_result"
    }
   ],
   "source": [
    "# 297번\n",
    "per = [\"10.31\", \"\", \"8.00\"]\n",
    "new = []\n",
    "for i in per:\n",
    "    try :\n",
    "        new.append(float(i))\n",
    "    except :\n",
    "        new.append(0)\n",
    "        \n",
    "new"
   ]
  },
  {
   "cell_type": "code",
   "execution_count": 53,
   "metadata": {},
   "outputs": [
    {
     "name": "stdout",
     "output_type": "stream",
     "text": [
      "0으로 나눌 수 없습니다.\n"
     ]
    }
   ],
   "source": [
    "# 298번\n",
    "try:\n",
    "    a = [1,2]\n",
    "\n",
    "    4/0\n",
    "except ZeroDivisionError:\n",
    "    print(\"0으로 나눌 수 없습니다.\")\n",
    "except IndexError:\n",
    "    print(\"인덱싱 할 수 없습니다.\")\n",
    "    \n",
    "    \n",
    "@@@@@@@@@@@@@@@@@@@@ 에러 종류마다 예외 처리 가능 @@@@@@@@@@@@@@@@@@@"
   ]
  },
  {
   "cell_type": "code",
   "execution_count": 57,
   "metadata": {},
   "outputs": [
    {
     "name": "stdout",
     "output_type": "stream",
     "text": [
      "1\n",
      "2\n",
      "3\n",
      "list index out of range\n"
     ]
    }
   ],
   "source": [
    "# 299번\n",
    "data = [1, 2, 3]\n",
    "\n",
    "try:\n",
    "    for i in range(5):\n",
    "        print(data[i])\n",
    "    \n",
    "except IndexError as e:\n",
    "    print(e)\n",
    "    \n",
    "@@@@@@@@@@@@@@@@ 예외 처리 코드 @@@@@@@@@@@@@@"
   ]
  },
  {
   "cell_type": "code",
   "execution_count": 76,
   "metadata": {},
   "outputs": [
    {
     "name": "stdout",
     "output_type": "stream",
     "text": [
      "10.31\n",
      "keep going\n",
      "no worries, keep going..\n",
      "0\n",
      "no worries, keep going..\n",
      "8.0\n",
      "keep going\n",
      "no worries, keep going..\n"
     ]
    }
   ],
   "source": [
    "# 300번\n",
    "per = [\"10.31\", \"\", \"8.00\"]\n",
    "\n",
    "for i in per:\n",
    "    try:\n",
    "        print(float(i))\n",
    "    except:\n",
    "        print(0)\n",
    "    else:\n",
    "        print('keep going')\n",
    "    finally:\n",
    "        print('no worries, keep going..')\n",
    "    \n",
    "@@@@@@@@@@@@@@\n",
    " else => 예외 발생 x시에만 수행\n",
    " \n",
    " finally => 항상 실행\n",
    "@@@@@@@@@@@@@@"
   ]
  },
  {
   "cell_type": "code",
   "execution_count": null,
   "metadata": {},
   "outputs": [],
   "source": []
  }
 ],
 "metadata": {
  "kernelspec": {
   "display_name": "Python 3",
   "language": "python",
   "name": "python3"
  },
  "language_info": {
   "codemirror_mode": {
    "name": "ipython",
    "version": 3
   },
   "file_extension": ".py",
   "mimetype": "text/x-python",
   "name": "python",
   "nbconvert_exporter": "python",
   "pygments_lexer": "ipython3",
   "version": "3.7.4"
  }
 },
 "nbformat": 4,
 "nbformat_minor": 4
}
